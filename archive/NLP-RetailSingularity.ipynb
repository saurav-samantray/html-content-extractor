{
 "cells": [
  {
   "cell_type": "code",
   "execution_count": 450,
   "metadata": {},
   "outputs": [
    {
     "name": "stderr",
     "output_type": "stream",
     "text": [
      "[nltk_data] Downloading package stopwords to\n",
      "[nltk_data]     C:\\Users\\vijay\\AppData\\Roaming\\nltk_data...\n",
      "[nltk_data]   Package stopwords is already up-to-date!\n"
     ]
    }
   ],
   "source": [
    "import pandas as pd\n",
    "import numpy as np\n",
    "import nltk as nltk\n",
    "nltk.download('stopwords')\n",
    "from nltk.corpus import stopwords\n"
   ]
  },
  {
   "cell_type": "code",
   "execution_count": 451,
   "metadata": {},
   "outputs": [],
   "source": [
    "text1 = \"Walmart Inc is an American multinational retail corporation that operates a chain of hypermarkets, discount department stores, and grocery stores, headquartered in Bentonville, Arkansas.  The company was founded by Sam Walton in 1962 and incorporated on October 31, 1969. It also owns and operates Sam's Club retail warehouses.As of October 31, 2019, Walmart has 11,438 stores and clubs in 27 countries, operating under 55 different names. The company operates under the name Walmart in the United States and Canada, as Walmart de México y Centroamérica in Mexico and Central America, as Asda in the United Kingdom, as the Seiyu Group in Japan, and as Best Price in India. It has wholly owned operations in Argentina, Chile, Canada, and South Africa. Since August 2018, Walmart only holds a minority stake in Walmart Brasil, which was renamed Grupo Big in August 2019, with 20 percent of the company's shares, and private equity firm Advent International holding 80 percent ownership of the company.\"\n",
    "text2 = \"Walmart is a multinational retail corporation that operates several chains of discount department and warehouse stores.The company’s segments include Walmart U.S., Walmart International, and Sam’s Club. The Walmart U.S. segment is a mass merchandiser of consumer products operating under the Walmart or Wal-Mart brands as well as walmart.com. It also offers digital services such as Vudu and InstaWatch. It offers a full line of grocery items, including meat, produce, deli, bakery, dairy, frozen foods, alcoholic and non-alcoholic beverages, floral, and dry grocery as well as consumables such as health and beauty aids, baby products, household chemicals, paper goods, and pet supplies; health and wellness services such as pharmacy, optical, over-the-counter drugs, and clinical services; entertainment products, including electronics, toys, cameras and supplies, photo processing services, cellular phones, cellular service plan contracts and prepaid services, movies, music, video games, and books.\"\n",
    "text3 = \"In September 2019, Walmart made the announcement that it would cease the sale of all e-cigarettes due to 'regulatory complexity and uncertainty'' over the products. Earlier in 2019, Walmart stopped selling fruit-flavored e-cigarette and had raised the minimum age to 21 for the purchase of products containing tobacco. That same month, Walmart opened its first Health Center, a 'medical mall' where customers can purchase primary care services, such as: vision tests, dental exams and root canals, lab work, X-rays and EKGs, counseling, and fitness and diet classes. Prices without insurance were listed, for instance, at $30 for an annual physical and $45 for a counseling session\""
   ]
  },
  {
   "cell_type": "code",
   "execution_count": 452,
   "metadata": {},
   "outputs": [],
   "source": [
    "arrayOfDocuments = [text1.lower(),text2.lower(),text3.lower()]"
   ]
  },
  {
   "cell_type": "code",
   "execution_count": 453,
   "metadata": {},
   "outputs": [],
   "source": [
    "allTheWords = set(text1.split(' ')).union(set(text2.split(' ')).union(set(text3.split(' '))))\n"
   ]
  },
  {
   "cell_type": "code",
   "execution_count": 454,
   "metadata": {},
   "outputs": [],
   "source": [
    "def makeAllWordsSmallCaps(words):\n",
    "    return np.char.lower(words)\n",
    "    \n",
    "    "
   ]
  },
  {
   "cell_type": "code",
   "execution_count": 455,
   "metadata": {},
   "outputs": [],
   "source": [
    "def removeNonString(words):\n",
    "    listOfWords = []\n",
    "    for i in filter(str.isalpha, words):\n",
    "        listOfWords.append(i)\n",
    "    return listOfWords"
   ]
  },
  {
   "cell_type": "code",
   "execution_count": 456,
   "metadata": {},
   "outputs": [],
   "source": [
    "def removePunctuation(words):\n",
    "    symbols = \"!\\\"#$%&()*+-./:;<=>?@[\\]^_`{|}~\\n\"\n",
    "    for i in symbols:\n",
    "        words = np.char.replace(words, i, ' ')\n",
    "    return words\n",
    "    "
   ]
  },
  {
   "cell_type": "code",
   "execution_count": 457,
   "metadata": {},
   "outputs": [],
   "source": [
    "def removeStopWords(words):\n",
    "    keywords = []\n",
    "    stop_words = set(stopwords.words('english')) \n",
    "    stop_words.add(\"also\")\n",
    "    for i in words:\n",
    "        if i not in stop_words:\n",
    "            keywords.append(i)\n",
    "    return keywords\n",
    "        "
   ]
  },
  {
   "cell_type": "code",
   "execution_count": 458,
   "metadata": {},
   "outputs": [],
   "source": [
    "def getTheRelevantWords(words):\n",
    "    mapOfWords = dict.fromkeys(words,0)\n",
    "    for i in words:\n",
    "        for j in arrayOfDocuments:\n",
    "            if i in j:\n",
    "                mapOfWords[i] += 1   \n",
    "    processedDict = {k: v for k, v in sorted(mapOfWords.items(), key=lambda item: item[1], reverse= True)}\n",
    "    print(processedDict)\n",
    "    return [*processedDict]\n",
    "    "
   ]
  },
  {
   "cell_type": "code",
   "execution_count": 459,
   "metadata": {},
   "outputs": [],
   "source": [
    "## Preprocessing \n",
    "\n",
    "\n",
    "bagOfWords = removeNonString(allTheWords)\n",
    "bagOfWords = removePunctuation(bagOfWords)\n",
    "bagOfWords = makeAllWordsSmallCaps(bagOfWords)\n",
    "bagOfWords = removeStopWords(bagOfWords)\n"
   ]
  },
  {
   "cell_type": "code",
   "execution_count": 460,
   "metadata": {},
   "outputs": [
    {
     "name": "stdout",
     "output_type": "stream",
     "text": [
      "{'health': 4, 'sam': 3, 'de': 3, 'walmart': 3, 'age': 2, 'inc': 2, 'services': 2, 'grocery': 2, 'stores': 2, 'operating': 2, 'price': 2, 'chain': 2, 'operates': 2, 'discount': 2, 'warehouse': 2, 'international': 2, 'department': 2, 'company': 2, 'club': 2, 'products': 2, 'corporation': 2, 'service': 2, 'multinational': 2, 'retail': 2, 'group': 1, 'prices': 1, 'paper': 1, 'pet': 1, 'chains': 1, 'line': 1, 'dry': 1, 'sale': 1, 'mexico': 1, 'american': 1, 'name': 1, 'cameras': 1, 'due': 1, 'owns': 1, 'cease': 1, 'diet': 1, 'best': 1, 'offers': 1, 'holding': 1, 'different': 1, 'including': 1, 'equity': 1, 'october': 1, 'big': 1, 'vudu': 1, 'grupo': 1, 'root': 1, 'video': 1, 'segment': 1, 'minimum': 1, 'would': 1, 'renamed': 1, 'south': 1, 'firm': 1, 'prepaid': 1, 'physical': 1, 'full': 1, 'purchase': 1, 'consumables': 1, 'care': 1, 'percent': 1, 'insurance': 1, 'include': 1, 'announcement': 1, 'brands': 1, 'segments': 1, 'since': 1, 'primary': 1, 'without': 1, 'made': 1, 'ownership': 1, 'august': 1, 'beauty': 1, 'clinical': 1, 'merchandiser': 1, 'lab': 1, 'méxico': 1, 'photo': 1, 'advent': 1, 'walton': 1, 'dental': 1, 'complexity': 1, 'frozen': 1, 'exams': 1, 'contracts': 1, 'entertainment': 1, 'minority': 1, 'founded': 1, 'fitness': 1, 'containing': 1, 'mass': 1, 'customers': 1, 'cellular': 1, 'raised': 1, 'consumer': 1, 'private': 1, 'alcoholic': 1, 'wellness': 1, 'several': 1, 'processing': 1, 'baby': 1, 'wholly': 1, 'holds': 1, 'well': 1, 'opened': 1, 'household': 1, 'earlier': 1, 'headquartered': 1, 'selling': 1, 'seiyu': 1, 'centroamérica': 1, 'session': 1, 'incorporated': 1, 'united': 1, 'counseling': 1, 'owned': 1, 'clubs': 1, 'september': 1, 'stopped': 1, 'central': 1, 'annual': 1, 'vision': 1, 'plan': 1, 'stake': 1, 'states': 1, 'asda': 1, 'first': 1, 'operations': 1, 'digital': 1}\n"
     ]
    },
    {
     "data": {
      "text/plain": [
       "['health',\n",
       " 'sam',\n",
       " 'de',\n",
       " 'walmart',\n",
       " 'age',\n",
       " 'inc',\n",
       " 'services',\n",
       " 'grocery',\n",
       " 'stores',\n",
       " 'operating',\n",
       " 'price',\n",
       " 'chain',\n",
       " 'operates',\n",
       " 'discount',\n",
       " 'warehouse',\n",
       " 'international',\n",
       " 'department',\n",
       " 'company',\n",
       " 'club',\n",
       " 'products']"
      ]
     },
     "execution_count": 460,
     "metadata": {},
     "output_type": "execute_result"
    }
   ],
   "source": [
    "## Get the words that are used the most across the documents \n",
    "\n",
    "relevantWords = getTheRelevantWords(bagOfWords)\n",
    "\n",
    "## Print top 15 words\n",
    "\n",
    "\n",
    "relevantWords[0:20]"
   ]
  },
  {
   "cell_type": "code",
   "execution_count": null,
   "metadata": {},
   "outputs": [],
   "source": []
  },
  {
   "cell_type": "code",
   "execution_count": null,
   "metadata": {},
   "outputs": [],
   "source": []
  }
 ],
 "metadata": {
  "kernelspec": {
   "display_name": "Python 3",
   "language": "python",
   "name": "python3"
  },
  "language_info": {
   "codemirror_mode": {
    "name": "ipython",
    "version": 3
   },
   "file_extension": ".py",
   "mimetype": "text/x-python",
   "name": "python",
   "nbconvert_exporter": "python",
   "pygments_lexer": "ipython3",
   "version": "3.6.4"
  }
 },
 "nbformat": 4,
 "nbformat_minor": 2
}
